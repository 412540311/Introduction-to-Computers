{
  "nbformat": 4,
  "nbformat_minor": 0,
  "metadata": {
    "colab": {
      "provenance": [],
      "authorship_tag": "ABX9TyONxUTWujgOE/JerWfjUs4n",
      "include_colab_link": true
    },
    "kernelspec": {
      "name": "python3",
      "display_name": "Python 3"
    },
    "language_info": {
      "name": "python"
    }
  },
  "cells": [
    {
      "cell_type": "markdown",
      "metadata": {
        "id": "view-in-github",
        "colab_type": "text"
      },
      "source": [
        "<a href=\"https://colab.research.google.com/github/412540311/Introduction-to-Computers/blob/main/0508.ipynb\" target=\"_parent\"><img src=\"https://colab.research.google.com/assets/colab-badge.svg\" alt=\"Open In Colab\"/></a>"
      ]
    },
    {
      "cell_type": "code",
      "execution_count": 1,
      "metadata": {
        "colab": {
          "base_uri": "https://localhost:8080/"
        },
        "id": "8Mm3hunhs6TK",
        "outputId": "18e02a08-dc53-4a07-ff3a-267d42e12489"
      },
      "outputs": [
        {
          "output_type": "stream",
          "name": "stdout",
          "text": [
            "請輸入您的體溫：38\n",
            "體溫過高！\n"
          ]
        }
      ],
      "source": [
        "temperature = float(input(\"請輸入您的體溫：\"))\n",
        "\n",
        "if temperature >= 37.5:\n",
        "    print(\"體溫過高！\")\n",
        "elif 37 <= temperature <= 37.4:\n",
        "    print(\"體溫略高！\")\n",
        "elif 34 <= temperature <= 36.9:\n",
        "    print(\"體溫正常！\")\n",
        "elif temperature < 34:\n",
        "    print(\"體溫異常，請重新量測！\")\n",
        "else:\n",
        "    print(\"輸入錯誤，請輸入有效的體溫值。\")"
      ]
    },
    {
      "cell_type": "code",
      "source": [
        "score = int(input(\"請輸入成績：\"))\n",
        "\n",
        "if score >= 90:\n",
        "    print(\"A\")\n",
        "elif 80 <= score <= 89:\n",
        "    print(\"B\")\n",
        "elif 70 <= score <= 79:\n",
        "    print(\"C\")\n",
        "elif 60 <= score <= 69:\n",
        "    print(\"D\")\n",
        "else:\n",
        "    print(\"E\")"
      ],
      "metadata": {
        "colab": {
          "base_uri": "https://localhost:8080/"
        },
        "id": "W_WyzR4duTx0",
        "outputId": "9b48a18b-dcb9-4a26-8945-295790722ed0"
      },
      "execution_count": 2,
      "outputs": [
        {
          "output_type": "stream",
          "name": "stdout",
          "text": [
            "請輸入成績：95\n",
            "A\n"
          ]
        }
      ]
    },
    {
      "cell_type": "code",
      "source": [
        "month=int(input())\n",
        "if(month  >=1 and month<=12):\n",
        " if(month==1 or month==2 or month==3):\n",
        "  print('{} is spring'.format(month))\n",
        " elif(month==4 or month==5 or month==6):\n",
        "  print('{} is summer'.format(month))\n",
        " elif(month==7 or month==8 or month==9):\n",
        "  print('{} is autumn'.format(month))\n",
        " elif(month==10 or month==11 or month==12):\n",
        "  print('{} is winter'.format(month))\n",
        "else:\n",
        "  print('Input Error')\n"
      ],
      "metadata": {
        "colab": {
          "base_uri": "https://localhost:8080/"
        },
        "id": "H27H39dGug0t",
        "outputId": "1eee0d7e-e853-4b77-a9eb-5c5a1fb217b7"
      },
      "execution_count": 3,
      "outputs": [
        {
          "output_type": "stream",
          "name": "stdout",
          "text": [
            "13\n",
            "Input Error\n"
          ]
        }
      ]
    }
  ]
}