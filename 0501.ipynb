{
  "nbformat": 4,
  "nbformat_minor": 0,
  "metadata": {
    "colab": {
      "provenance": [],
      "authorship_tag": "ABX9TyN/MZWzNdx0p3eTrjRdBuQs",
      "include_colab_link": true
    },
    "kernelspec": {
      "name": "python3",
      "display_name": "Python 3"
    },
    "language_info": {
      "name": "python"
    }
  },
  "cells": [
    {
      "cell_type": "markdown",
      "metadata": {
        "id": "view-in-github",
        "colab_type": "text"
      },
      "source": [
        "<a href=\"https://colab.research.google.com/github/412540311/Introduction-to-Computers/blob/main/0501.ipynb\" target=\"_parent\"><img src=\"https://colab.research.google.com/assets/colab-badge.svg\" alt=\"Open In Colab\"/></a>"
      ]
    },
    {
      "cell_type": "code",
      "execution_count": 2,
      "metadata": {
        "colab": {
          "base_uri": "https://localhost:8080/"
        },
        "id": "zbH-SDAzuyIV",
        "outputId": "bf11a92b-fa37-4e13-bf14-27888f3279c3"
      },
      "outputs": [
        {
          "output_type": "stream",
          "name": "stdout",
          "text": [
            "請輸入分數70\n",
            "及格\n"
          ]
        }
      ],
      "source": [
        "score=int(input('請輸入分數'))\n",
        "if(score>=60):\n",
        " print('及格')"
      ]
    },
    {
      "cell_type": "code",
      "source": [
        "數學=60\n",
        "英文=70\n",
        "if 數學>英文:\n",
        "  print('數學比較高')\n",
        "else:\n",
        "  print('英文比較高')"
      ],
      "metadata": {
        "colab": {
          "base_uri": "https://localhost:8080/"
        },
        "id": "cZXE-u_Kw8dy",
        "outputId": "ffcbea04-3909-464d-c17a-a307d9392567"
      },
      "execution_count": 3,
      "outputs": [
        {
          "output_type": "stream",
          "name": "stdout",
          "text": [
            "英文比較高\n"
          ]
        }
      ]
    },
    {
      "cell_type": "code",
      "source": [
        "password=int(input('請輸入密碼'))\n",
        "if(password==1234):\n",
        " print('歡迎光臨!')"
      ],
      "metadata": {
        "colab": {
          "base_uri": "https://localhost:8080/"
        },
        "id": "Khl63H6txgq0",
        "outputId": "04243575-df5f-4757-de15-1369b5438660"
      },
      "execution_count": 3,
      "outputs": [
        {
          "name": "stdout",
          "output_type": "stream",
          "text": [
            "請輸入密碼4563\n"
          ]
        }
      ]
    },
    {
      "cell_type": "code",
      "source": [
        "rain=input('今天會下雨嗎?')\n",
        "if(rain=='Y' or rain=='y'):\n",
        " print('出門記得帶傘!')"
      ],
      "metadata": {
        "colab": {
          "base_uri": "https://localhost:8080/"
        },
        "id": "cSTw3vIR0bRW",
        "outputId": "9b9e4c6c-54ac-4bb5-a50a-7c1dbf53bf9a"
      },
      "execution_count": 13,
      "outputs": [
        {
          "output_type": "stream",
          "name": "stdout",
          "text": [
            "今天會下雨嗎?Y\n",
            "出門記得帶傘!\n"
          ]
        }
      ]
    },
    {
      "cell_type": "code",
      "source": [
        "password=int(input('請輸入密碼'))\n",
        "if(password==1234):\n",
        " print('歡迎光臨!')\n",
        "else:\n",
        " print('密碼錯誤!')"
      ],
      "metadata": {
        "colab": {
          "base_uri": "https://localhost:8080/"
        },
        "id": "fbFOFf7Y1B5Z",
        "outputId": "b7e853cb-5f46-4963-efc0-8dee4568a848"
      },
      "execution_count": 8,
      "outputs": [
        {
          "output_type": "stream",
          "name": "stdout",
          "text": [
            "請輸入密碼4456\n",
            "密碼錯誤!\n"
          ]
        }
      ]
    },
    {
      "cell_type": "code",
      "source": [
        "number=int(input('請輸入正整數'))\n",
        "if(number%2==0):\n",
        "  print('此為偶數')\n",
        "else:\n",
        "  print('此為奇數')"
      ],
      "metadata": {
        "colab": {
          "base_uri": "https://localhost:8080/"
        },
        "id": "uFIQWZSq1f0x",
        "outputId": "a256439e-ecf7-474b-8d64-377cab82c915"
      },
      "execution_count": 9,
      "outputs": [
        {
          "output_type": "stream",
          "name": "stdout",
          "text": [
            "請輸入正整數25\n",
            "此為奇數\n"
          ]
        }
      ]
    }
  ]
}